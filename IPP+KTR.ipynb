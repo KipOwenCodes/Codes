{
 "cells": [
  {
   "cell_type": "code",
   "execution_count": 101,
   "id": "68ddfd2c",
   "metadata": {},
   "outputs": [
    {
     "name": "stdout",
     "output_type": "stream",
     "text": [
      "Максимальный объем:  235000  см3, коробок ИПП120:  58 , коробок КТР-121:  144\n"
     ]
    }
   ],
   "source": [
    "# наш бюджет\n",
    "money = 2100000\n",
    "# объем шкафа\n",
    "Volume_max = 235000 \n",
    "# цена и объём ИПП120\n",
    "IPP_cost = 5400 \n",
    "IPP_vol = 700 \n",
    "# цена и объём КТР-121\n",
    "KTR_cost = 12240 \n",
    "KTR_vol = 1350\n",
    "# задаём минимальные и максимальные количества упаковок каждого товара \n",
    "IPP_all = range(0,int(Volume_max/IPP_vol)) \n",
    "KTR_all = range(0,int(Volume_max/KTR_vol)) \n",
    "# сюда мы положим результаты поиска \n",
    "Volume_sum = 0 \n",
    "IPP_max = 0 \n",
    "KTR_max = 0 \n",
    "# перебираем все варианты с ИПП120… \n",
    "for IPP in IPP_all: \n",
    "    # … и КТР-121  \n",
    "    for KTR in KTR_all: \n",
    "        # берём получившееся количество коробок и проверяем цену и объём \n",
    "        # если помещается в шкаф и бюджет и у этого набора максимальный объем на этом этапе — запоминаем значения \n",
    "        if IPP * IPP_cost + KTR * KTR_cost <= money\\\n",
    "        and IPP * IPP_vol + KTR * KTR_vol <= Volume_max and IPP * IPP_vol + KTR * KTR_vol > Volume_sum:\n",
    "            # записываем значения в нужные переменные \n",
    "            IPP_max = IPP \n",
    "            KTR_max = KTR \n",
    "            # считаем общий объем всех товаров \n",
    "            Volume_sum = IPP * IPP_vol  + KTR * KTR_vol \n",
    "            \n",
    "# в конце просто выводим то, что даст нам максимальный результат \n",
    "print('Максимальный объем: ', Volume_sum, ' см3, коробок ИПП120: ', IPP_max,', коробок КТР-121: ', KTR_max)\n",
    "\n"
   ]
  }
 ],
 "metadata": {
  "kernelspec": {
   "display_name": "Python 3",
   "language": "python",
   "name": "python3"
  },
  "language_info": {
   "codemirror_mode": {
    "name": "ipython",
    "version": 3
   },
   "file_extension": ".py",
   "mimetype": "text/x-python",
   "name": "python",
   "nbconvert_exporter": "python",
   "pygments_lexer": "ipython3",
   "version": "3.8.8"
  }
 },
 "nbformat": 4,
 "nbformat_minor": 5
}
